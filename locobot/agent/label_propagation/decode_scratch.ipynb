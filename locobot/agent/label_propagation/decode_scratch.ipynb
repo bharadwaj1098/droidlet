{
 "cells": [
  {
   "cell_type": "code",
   "execution_count": 1,
   "metadata": {},
   "outputs": [],
   "source": [
    "import cv2\n",
    "import numpy as np\n",
    "import base64\n",
    "from PIL import Image\n",
    "from io import BytesIO\n"
   ]
  },
  {
   "cell_type": "code",
   "execution_count": 132,
   "metadata": {},
   "outputs": [
    {
     "name": "stdout",
     "output_type": "stream",
     "text": [
      "921600\n",
      "b'UklGRgRuAQBXRUJQVlA4IPhtAQDQSgKdASqAAuABB0CWJbACdO3FPHbRMI/cP2l///2//L4iv//J5+t///KG/W///Sv///U5/1P/'\n"
     ]
    }
   ],
   "source": [
    "# Encode\n",
    "def get_fake_rgbd(rgb=None, h=480, w=640):\n",
    "    rgb = np.uint8(np.random.rand(h, w, 3) * 255) if rgb is None else rgb\n",
    "    depth = np.random.randint(0, 2, (h, w))\n",
    "    pts = np.random.randint(0, 5, (h * w, 3))\n",
    "    return rgb, depth\n",
    "\n",
    "rgb, depth = get_fake_rgbd()\n",
    "rgb_bytes = rgb.tobytes()\n",
    "\n",
    "# cv2 encoding\n",
    "encode_param = [int(cv2.IMWRITE_WEBP_QUALITY), 10]\n",
    "fmt = \".webp\"\n",
    "# _, rgb_bytes = cv2.imencode(fmt, cv2.cvtColor(rgb, cv2.COLOR_RGB2BGR))\n",
    "# Note that including encode_param will fail the assert at the bottom, but is probably fine\n",
    "_, rgb_bytes = cv2.imencode(fmt, cv2.cvtColor(rgb, cv2.COLOR_RGB2BGR), encode_param)\n",
    "\n",
    "encoded_msg = base64.b64encode(rgb_bytes)\n",
    "print(encoded_msg[:100])"
   ]
  },
  {
   "cell_type": "code",
   "execution_count": 135,
   "metadata": {},
   "outputs": [
    {
     "ename": "error",
     "evalue": "OpenCV(4.5.2) :-1: error: (-5:Bad argument) in function 'cvtColor'\n> Overload resolution failed:\n>  - dst is not a numpy array, neither a scalar\n>  - Expected Ptr<cv::UMat> for argument 'dst'\n",
     "output_type": "error",
     "traceback": [
      "\u001b[0;31m---------------------------------------------------------------------------\u001b[0m",
      "\u001b[0;31merror\u001b[0m                                     Traceback (most recent call last)",
      "\u001b[0;32m<ipython-input-135-ae36142d9e2e>\u001b[0m in \u001b[0;36m<module>\u001b[0;34m\u001b[0m\n\u001b[1;32m      7\u001b[0m \u001b[0;31m# np_res = cv2.imdecode(np_res, cv2.IMREAD_COLOR)\u001b[0m\u001b[0;34m\u001b[0m\u001b[0;34m\u001b[0m\u001b[0;34m\u001b[0m\u001b[0m\n\u001b[1;32m      8\u001b[0m \u001b[0mnp_res\u001b[0m \u001b[0;34m=\u001b[0m \u001b[0mcv2\u001b[0m\u001b[0;34m.\u001b[0m\u001b[0mimdecode\u001b[0m\u001b[0;34m(\u001b[0m\u001b[0mnp_res\u001b[0m\u001b[0;34m,\u001b[0m \u001b[0mcv2\u001b[0m\u001b[0;34m.\u001b[0m\u001b[0mIMREAD_COLOR\u001b[0m\u001b[0;34m)\u001b[0m\u001b[0;34m\u001b[0m\u001b[0;34m\u001b[0m\u001b[0m\n\u001b[0;32m----> 9\u001b[0;31m \u001b[0mnp_res\u001b[0m \u001b[0;34m=\u001b[0m \u001b[0mcv2\u001b[0m\u001b[0;34m.\u001b[0m\u001b[0mcvtColor\u001b[0m\u001b[0;34m(\u001b[0m\u001b[0mnp_res\u001b[0m\u001b[0;34m,\u001b[0m \u001b[0mcv2\u001b[0m\u001b[0;34m.\u001b[0m\u001b[0mCOLOR_BGR2RGB\u001b[0m\u001b[0;34m,\u001b[0m \u001b[0;34m[\u001b[0m\u001b[0mint\u001b[0m\u001b[0;34m(\u001b[0m\u001b[0mcv2\u001b[0m\u001b[0;34m.\u001b[0m\u001b[0mIMWRITE_WEBP_QUALITY\u001b[0m\u001b[0;34m)\u001b[0m\u001b[0;34m,\u001b[0m \u001b[0;36m10\u001b[0m\u001b[0;34m]\u001b[0m\u001b[0;34m)\u001b[0m\u001b[0;34m\u001b[0m\u001b[0;34m\u001b[0m\u001b[0m\n\u001b[0m\u001b[1;32m     10\u001b[0m \u001b[0;34m\u001b[0m\u001b[0m\n\u001b[1;32m     11\u001b[0m \u001b[0mprint\u001b[0m\u001b[0;34m(\u001b[0m\u001b[0mnp_res\u001b[0m\u001b[0;34m.\u001b[0m\u001b[0mshape\u001b[0m\u001b[0;34m)\u001b[0m\u001b[0;34m\u001b[0m\u001b[0;34m\u001b[0m\u001b[0m\n",
      "\u001b[0;31merror\u001b[0m: OpenCV(4.5.2) :-1: error: (-5:Bad argument) in function 'cvtColor'\n> Overload resolution failed:\n>  - dst is not a numpy array, neither a scalar\n>  - Expected Ptr<cv::UMat> for argument 'dst'\n"
     ]
    }
   ],
   "source": [
    "# Decode\n",
    "res = base64.b64decode(encoded_msg)\n",
    "np_res = np.frombuffer(res, dtype=np.uint8)\n",
    "# np_res = np.frombuffer(res, dtype=np.uint8).reshape(rgb.shape)\n",
    "\n",
    "# cv2 decoding\n",
    "np_res = cv2.imdecode(np_res, cv2.IMREAD_COLOR)\n",
    "np_res = cv2.cvtColor(np_res, cv2.COLOR_BGR2RGB)\n",
    "\n",
    "print(np_res.shape)"
   ]
  },
  {
   "cell_type": "code",
   "execution_count": 134,
   "metadata": {},
   "outputs": [
    {
     "name": "stdout",
     "output_type": "stream",
     "text": [
      "<class 'numpy.ndarray'>\n",
      "<class 'numpy.ndarray'>\n",
      "(480, 640, 3) (480, 640, 3)\n",
      "[[138  17 119]\n",
      " [  0   9 194]\n",
      " [115  13  25]\n",
      " ...\n",
      " [201  50  54]\n",
      " [117 207  28]\n",
      " [218 211   1]]\n",
      "[[ 44  22 141]\n",
      " [ 30  35 131]\n",
      " [  0  57 105]\n",
      " ...\n",
      " [140  65  93]\n",
      " [160 172 154]\n",
      " [154 210 170]]\n",
      "False\n"
     ]
    }
   ],
   "source": [
    "print(type(rgb))\n",
    "print(type(np_res))\n",
    "print(np_res.shape, rgb.shape)\n",
    "\n",
    "print(rgb[0])\n",
    "print(np_res[0])\n",
    "\n",
    "print(np.array_equal(rgb, np_res))\n",
    "\n",
    "# im = Image.open(BytesIO(npres))\n",
    "# im = Image.open(res)\n"
   ]
  },
  {
   "cell_type": "code",
   "execution_count": null,
   "metadata": {},
   "outputs": [],
   "source": []
  }
 ],
 "metadata": {
  "kernelspec": {
   "display_name": "Python 3",
   "language": "python",
   "name": "python3"
  },
  "language_info": {
   "codemirror_mode": {
    "name": "ipython",
    "version": 3
   },
   "file_extension": ".py",
   "mimetype": "text/x-python",
   "name": "python",
   "nbconvert_exporter": "python",
   "pygments_lexer": "ipython3",
   "version": "3.7.10"
  }
 },
 "nbformat": 4,
 "nbformat_minor": 4
}
